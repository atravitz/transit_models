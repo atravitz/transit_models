{
 "cells": [
  {
   "cell_type": "code",
   "execution_count": 32,
   "metadata": {},
   "outputs": [],
   "source": [
    "import transit_model as tm\n",
    "import numpy as np\n",
    "import matplotlib.pyplot as plt"
   ]
  },
  {
   "cell_type": "code",
   "execution_count": 33,
   "metadata": {},
   "outputs": [],
   "source": [
    "n_passengers = 1000\n",
    "node_cap_range = [20, 18, 16, 15]\n",
    "replicates = 10"
   ]
  },
  {
   "cell_type": "code",
   "execution_count": 34,
   "metadata": {},
   "outputs": [
    {
     "name": "stdout",
     "output_type": "stream",
     "text": [
      "20\n",
      "0\n",
      "1\n",
      "2\n",
      "3\n",
      "4\n",
      "5\n",
      "6\n",
      "7\n",
      "8\n",
      "9\n",
      "18\n",
      "0\n",
      "1\n",
      "2\n",
      "3\n",
      "4\n",
      "5\n",
      "6\n",
      "7\n",
      "8\n",
      "simulation with capacity of 18 is has only 900/1000 completed\n",
      "9\n",
      "16\n",
      "0\n",
      "1\n",
      "simulation with capacity of 16 is has only 928/1000 completed\n",
      "2\n",
      "simulation with capacity of 16 is has only 901/1000 completed\n",
      "3\n",
      "4\n",
      "5\n",
      "6\n",
      "7\n",
      "8\n",
      "9\n",
      "15\n",
      "0\n",
      "simulation with capacity of 15 is has only 958/1000 completed\n",
      "1\n",
      "simulation with capacity of 15 is has only 256/1000 completed\n",
      "2\n",
      "simulation with capacity of 15 is has only 926/1000 completed\n",
      "3\n",
      "simulation with capacity of 15 is has only 779/1000 completed\n",
      "4\n",
      "simulation with capacity of 15 is has only 900/1000 completed\n",
      "5\n",
      "simulation with capacity of 15 is has only 273/1000 completed\n",
      "6\n",
      "simulation with capacity of 15 is has only 882/1000 completed\n",
      "7\n",
      "simulation with capacity of 15 is has only 834/1000 completed\n",
      "8\n",
      "9\n",
      "simulation with capacity of 15 is has only 917/1000 completed\n"
     ]
    }
   ],
   "source": [
    "capacity_dict = {}\n",
    "\n",
    "for n in node_cap_range:\n",
    "    transit_times = []\n",
    "    print(n)\n",
    "    for r in range(replicates):\n",
    "        print(r)\n",
    "        g, passengers = tm.initialize(n_passengers=n_passengers,\n",
    "                                      node_capacity=n)\n",
    "        temp_transit_times = tm.update(g=g,\n",
    "                                  passengers=passengers,\n",
    "                                  max_run_steps=5e4)\n",
    "        if len(temp_transit_times) == n_passengers:\n",
    "            transit_times.append(np.mean(temp_transit_times))\n",
    "        else:\n",
    "            print(f'simulation with capacity of {n} is has only {len(temp_transit_times)}/{n_passengers} completed')\n",
    "    capacity_dict[n] = transit_times"
   ]
  },
  {
   "cell_type": "code",
   "execution_count": 31,
   "metadata": {
    "scrolled": false
   },
   "outputs": [
    {
     "data": {
      "image/png": "[encoded data removed]",
      "text/plain": [
       "<Figure size 432x288 with 1 Axes>"
      ]
     },
     "metadata": {
      "needs_background": "light"
     },
     "output_type": "display_data"
    }
   ],
   "source": [
    "plt.figure()\n",
    "for key in capacity_dict:\n",
    "    transit_times = capacity_dict[key]\n",
    "#     plt.scatter([key]*len(transit_times), transit_times, alpha=0.5)\n",
    "    plt.errorbar(x=key, y=np.mean(transit_times), yerr=np.std(transit_times), fmt='s', alpha=0.8)\n",
    "\n",
    "plt.xlim(0,30)\n",
    "plt.xlabel('node capacity')\n",
    "plt.ylabel('mean transit time')\n",
    "plt.show()"
   ]
  },
  {
   "cell_type": "code",
   "execution_count": null,
   "metadata": {},
   "outputs": [],
   "source": []
  }
 ],
 "metadata": {
  "kernelspec": {
   "display_name": "Python 3",
   "language": "python",
   "name": "python3"
  },
  "language_info": {
   "codemirror_mode": {
    "name": "ipython",
    "version": 3
   },
   "file_extension": ".py",
   "mimetype": "text/x-python",
   "name": "python",
   "nbconvert_exporter": "python",
   "pygments_lexer": "ipython3",
   "version": "3.8.1"
  }
 },
 "nbformat": 4,
 "nbformat_minor": 4
}
