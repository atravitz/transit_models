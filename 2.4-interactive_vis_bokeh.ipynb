{
 "cells": [
  {
   "cell_type": "code",
   "execution_count": 1,
   "metadata": {},
   "outputs": [],
   "source": [
    "import networkx as nx\n",
    "from bokeh.io import output_file, show\n",
    "from bokeh.models import (BoxZoomTool, Circle, WheelZoomTool, PanTool, HoverTool,\n",
    "                          MultiLine, Plot, Range1d, ResetTool,)\n",
    "from bokeh.palettes import Spectral4\n",
    "from bokeh.plotting import from_networkx\n",
    "import transit_model as tm\n",
    "\n",
    "\n",
    "g = nx.read_gml('cta.gml')\n",
    "node_coords = {}\n",
    "for n in g:\n",
    "    node_coords[n] = g.nodes[n]['pos']\n",
    "\n",
    "g, passengers = tm.initialize(n_passengers=10,\n",
    "                              node_capacity=0)\n",
    "\n",
    "# lists as attributes break bokeh, so delete these\n",
    "for i in g.nodes: \n",
    "    del g.nodes[i]['allnodecolors'] \n",
    "\n",
    "x_coords = [g.nodes[i]['pos'][0] for i in g.nodes]\n",
    "y_coords = [g.nodes[i]['pos'][1] for i in g.nodes]\n",
    "nodecolor = [g.nodes[i]['nodecolor'] for i in g.nodes]\n",
    "names = [i for i in g.nodes]\n",
    "\n",
    "plot = Plot(plot_width=400, plot_height=400, \n",
    "            x_range=Range1d(min(x_coords), max(x_coords)),\n",
    "            y_range=Range1d(min(y_coords), max(y_coords)))\n",
    "\n",
    "node_hover_tool = HoverTool(tooltips=[(\"index\", \"@index\")])\n",
    "plot.add_tools(node_hover_tool, PanTool(), WheelZoomTool(), ResetTool())\n",
    "\n",
    "graph_renderer = from_networkx(g,node_coords, scale=1, center=(0, 0))\n",
    "# graph_renderer.node_renderer.data_source.data['nodecolor'] = nodecolor\n",
    "\n",
    "plot.renderers.append(graph_renderer)\n",
    "\n",
    "output_file(\"CTA_graphs.html\")\n",
    "show(plot)"
   ]
  },
  {
   "cell_type": "code",
   "execution_count": null,
   "metadata": {},
   "outputs": [],
   "source": [
    "dict()"
   ]
  }
 ],
 "metadata": {
  "kernelspec": {
   "display_name": "Python [conda env:alyssa] *",
   "language": "python",
   "name": "conda-env-alyssa-py"
  },
  "language_info": {
   "codemirror_mode": {
    "name": "ipython",
    "version": 3
   },
   "file_extension": ".py",
   "mimetype": "text/x-python",
   "name": "python",
   "nbconvert_exporter": "python",
   "pygments_lexer": "ipython3",
   "version": "3.8.1"
  }
 },
 "nbformat": 4,
 "nbformat_minor": 4
}
