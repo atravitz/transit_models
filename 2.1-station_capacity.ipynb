{
 "cells": [
  {
   "cell_type": "code",
   "execution_count": 13,
   "metadata": {},
   "outputs": [],
   "source": [
    "import transit_model as tm\n",
    "import numpy as np\n",
    "import matplotlib.pyplot as plt\n",
    "import random\n",
    "import pandas as pd"
   ]
  },
  {
   "cell_type": "code",
   "execution_count": 14,
   "metadata": {},
   "outputs": [],
   "source": [
    "g, passengers = tm.initialize(n_passengers=100, node_capacity=1000)"
   ]
  },
  {
   "cell_type": "markdown",
   "metadata": {},
   "source": [
    "since there are 140 nodes, we expect crowding effects to happen when `n_passengers/140 >=  node_capacity`"
   ]
  },
  {
   "cell_type": "code",
   "execution_count": null,
   "metadata": {},
   "outputs": [
    {
     "name": "stdout",
     "output_type": "stream",
     "text": [
      "71.42857142857143\n",
      "running simulations for node_capacity = 100\n"
     ]
    }
   ],
   "source": [
    "n_passengers = 10000\n",
    "node_cap_range = [100, 75, 50, 25, 20, 15, 10, 5]\n",
    "\n",
    "replicates = 3\n",
    "max_steps = 1e3\n",
    "\n",
    "print(n_passengers/len(g.nodes))\n",
    "\n",
    "capacities = []\n",
    "transit_times = []\n",
    "\n",
    "for n in node_cap_range:\n",
    "    print(f'running simulations for node_capacity = {n}')\n",
    "    for r in range(replicates):\n",
    "        g, passengers = tm.initialize(n_passengers=n_passengers,\n",
    "                                      node_capacity=n)\n",
    "        temp_transit_times = tm.update(g=g,\n",
    "                                       passengers=passengers,\n",
    "                                       max_run_steps=max_steps)\n",
    "        if len(temp_transit_times) == n_passengers:\n",
    "            transit_times.extend(temp_transit_times)\n",
    "            capacities.extend([n]*len(temp_transit_times))\n",
    "        else:\n",
    "            print(f'simulation with capacity of {n} is has only {len(temp_transit_times)}/{n_passengers} completed')"
   ]
  },
  {
   "cell_type": "code",
   "execution_count": null,
   "metadata": {},
   "outputs": [],
   "source": [
    "capacity_dict = {'capacities':capacities, 'transit_times':transit_times}\n",
    "\n",
    "data = pd.DataFrame.from_dict(capacity_dict)\n",
    "data"
   ]
  },
  {
   "cell_type": "code",
   "execution_count": null,
   "metadata": {},
   "outputs": [],
   "source": [
    "import seaborn as sns\n",
    "import pandas as pd \n",
    "sns.set(style=\"whitegrid\")\n",
    "plt.figure(dpi=120)\n",
    "sns.violinplot(x='capacities', y='transit_times', data=data, alpha=0.5, saturation=0.8)\n",
    "plt.show()"
   ]
  },
  {
   "cell_type": "code",
   "execution_count": null,
   "metadata": {},
   "outputs": [],
   "source": []
  }
 ],
 "metadata": {
  "kernelspec": {
   "display_name": "Python 3",
   "language": "python",
   "name": "python3"
  },
  "language_info": {
   "codemirror_mode": {
    "name": "ipython",
    "version": 3
   },
   "file_extension": ".py",
   "mimetype": "text/x-python",
   "name": "python",
   "nbconvert_exporter": "python",
   "pygments_lexer": "ipython3",
   "version": "3.8.1"
  }
 },
 "nbformat": 4,
 "nbformat_minor": 4
}
