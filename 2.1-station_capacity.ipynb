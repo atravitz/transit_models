{
 "cells": [
  {
   "cell_type": "code",
   "execution_count": 5,
   "metadata": {},
   "outputs": [],
   "source": [
    "import transit_model as tm\n",
    "import numpy as np\n",
    "import matplotlib.pyplot as plt\n",
    "import random"
   ]
  },
  {
   "cell_type": "code",
   "execution_count": 6,
   "metadata": {},
   "outputs": [],
   "source": [
    "g, passengers = tm.initialize(n_passengers=100, node_capacity=1000)"
   ]
  },
  {
   "cell_type": "code",
   "execution_count": 7,
   "metadata": {},
   "outputs": [
    {
     "data": {
      "text/plain": [
       "140"
      ]
     },
     "execution_count": 7,
     "metadata": {},
     "output_type": "execute_result"
    }
   ],
   "source": [
    "len(g.nodes)"
   ]
  },
  {
   "cell_type": "markdown",
   "metadata": {},
   "source": [
    "since there are 140 nodes, we expect crowding effects to happen when `n_passengers/140 >=  node_capacity`"
   ]
  },
  {
   "cell_type": "code",
   "execution_count": null,
   "metadata": {},
   "outputs": [
    {
     "name": "stdout",
     "output_type": "stream",
     "text": [
      "7.142857142857143\n",
      "running simulations for node_capacity = 50\n",
      "0\n",
      "1\n",
      "running simulations for node_capacity = 48\n",
      "0\n",
      "1\n",
      "running simulations for node_capacity = 45\n",
      "0\n"
     ]
    }
   ],
   "source": [
    "n_passengers = 1000\n",
    "node_cap_range = [50, 48, 45]\n",
    "replicates = 2\n",
    "max_steps = 1e5\n",
    "\n",
    "print(n_passengers/len(g.nodes))\n",
    "\n",
    "capacity_dict = {}\n",
    "\n",
    "for n in node_cap_range:\n",
    "    transit_times = []\n",
    "    print(f'running simulations for node_capacity = {n}')\n",
    "    for r in range(replicates):\n",
    "        print(r)\n",
    "        g, passengers = tm.initialize(n_passengers=n_passengers,\n",
    "                                      node_capacity=n)\n",
    "        temp_transit_times = tm.update(g=g,\n",
    "                                       passengers=passengers,\n",
    "                                       max_run_steps=max_steps)\n",
    "        if len(temp_transit_times) == n_passengers:\n",
    "            transit_times.extend(temp_transit_times)\n",
    "        else:\n",
    "            print(f'simulation with capacity of {n} is has only {len(temp_transit_times)}/{n_passengers} completed')\n",
    "    capacity_dict[n] = transit_times"
   ]
  },
  {
   "cell_type": "code",
   "execution_count": null,
   "metadata": {},
   "outputs": [],
   "source": [
    "for key in capacity_dict:\n",
    "    plt.figure(dpi=120)\n",
    "    transit_times = capacity_dict[key]\n",
    "    plt.title(key)\n",
    "    plt.hist(transit_times, alpha=0.8)\n",
    "    plt.show()"
   ]
  },
  {
   "cell_type": "code",
   "execution_count": 6,
   "metadata": {
    "scrolled": false
   },
   "outputs": [
    {
     "data": {
      "image/png": "[encoded data removed]",
      "text/plain": [
       "<Figure size 432x288 with 1 Axes>"
      ]
     },
     "metadata": {
      "needs_background": "light"
     },
     "output_type": "display_data"
    }
   ],
   "source": [
    "plt.figure()\n",
    "for key in capacity_dict:\n",
    "    transit_times = capacity_dict[key]\n",
    "#     plt.scatter([key]*len(transit_times), transit_times, alpha=0.5)\n",
    "    plt.errorbar(x=key, y=np.mean(transit_times), yerr=np.std(transit_times), fmt='s', alpha=0.8)\n",
    "\n",
    "plt.xlabel('node capacity')\n",
    "plt.ylabel('mean transit time')\n",
    "plt.show()"
   ]
  },
  {
   "cell_type": "code",
   "execution_count": null,
   "metadata": {},
   "outputs": [],
   "source": []
  }
 ],
 "metadata": {
  "kernelspec": {
   "display_name": "Python 3",
   "language": "python",
   "name": "python3"
  },
  "language_info": {
   "codemirror_mode": {
    "name": "ipython",
    "version": 3
   },
   "file_extension": ".py",
   "mimetype": "text/x-python",
   "name": "python",
   "nbconvert_exporter": "python",
   "pygments_lexer": "ipython3",
   "version": "3.8.1"
  }
 },
 "nbformat": 4,
 "nbformat_minor": 4
}
