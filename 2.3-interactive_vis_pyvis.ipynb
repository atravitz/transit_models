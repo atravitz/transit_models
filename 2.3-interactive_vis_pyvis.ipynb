{
 "cells": [
  {
   "cell_type": "code",
   "execution_count": 2,
   "metadata": {},
   "outputs": [],
   "source": [
    "from pyvis.network import Network\n",
    "import networkx as nx\n",
    "import transit_model as tm\n",
    "import matplotlib.pyplot as plt"
   ]
  },
  {
   "cell_type": "code",
   "execution_count": 3,
   "metadata": {},
   "outputs": [
    {
     "data": {
      "text/html": [
       "\n",
       "        <iframe\n",
       "            width=\"800\"\n",
       "            height=\"800\"\n",
       "            src=\"ex.html\"\n",
       "            frameborder=\"0\"\n",
       "            allowfullscreen\n",
       "        ></iframe>\n",
       "        "
      ],
      "text/plain": [
       "<IPython.lib.display.IFrame at 0x121d2ca90>"
      ]
     },
     "execution_count": 3,
     "metadata": {},
     "output_type": "execute_result"
    }
   ],
   "source": [
    "g = Network(height=800, width=800, notebook=True)\n",
    "g.barnes_hut()\n",
    "g.from_nx(nx.davis_southern_women_graph())\n",
    "g.show('ex.html')"
   ]
  },
  {
   "cell_type": "code",
   "execution_count": 10,
   "metadata": {},
   "outputs": [
    {
     "data": {
      "text/html": [
       "\n",
       "        <iframe\n",
       "            width=\"800\"\n",
       "            height=\"800\"\n",
       "            src=\"test.html\"\n",
       "            frameborder=\"0\"\n",
       "            allowfullscreen\n",
       "        ></iframe>\n",
       "        "
      ],
      "text/plain": [
       "<IPython.lib.display.IFrame at 0x111a3dbb0>"
      ]
     },
     "execution_count": 10,
     "metadata": {},
     "output_type": "execute_result"
    }
   ],
   "source": [
    "g = nx.read_gml('cta.gml')\n",
    "node_coords = {}\n",
    "for n in g:\n",
    "    node_coords[n] = g.nodes[n]['pos']\n",
    "\n",
    "g, passengers = tm.initialize(n_passengers=10,\n",
    "                              node_capacity=0)\n",
    "\n",
    "g_vis = Network(height=800, width=800, notebook=True)\n",
    "x_coords = [g.nodes[i]['pos'][0]*100 for i in g.nodes]\n",
    "y_coords = [g.nodes[i]['pos'][1]*100 for i in g.nodes]\n",
    "names = [i for i in g.nodes]\n",
    "# g_vis.from_nx(g)\n",
    "g_vis.add_nodes(nodes=names, x=x_coords, y=y_coords)\n",
    "g_vis.show('test.html')"
   ]
  },
  {
   "cell_type": "code",
   "execution_count": null,
   "metadata": {},
   "outputs": [],
   "source": [
    "y_coords"
   ]
  },
  {
   "cell_type": "code",
   "execution_count": null,
   "metadata": {},
   "outputs": [],
   "source": []
  }
 ],
 "metadata": {
  "kernelspec": {
   "display_name": "Python [conda env:alyssa] *",
   "language": "python",
   "name": "conda-env-alyssa-py"
  },
  "language_info": {
   "codemirror_mode": {
    "name": "ipython",
    "version": 3
   },
   "file_extension": ".py",
   "mimetype": "text/x-python",
   "name": "python",
   "nbconvert_exporter": "python",
   "pygments_lexer": "ipython3",
   "version": "3.8.1"
  }
 },
 "nbformat": 4,
 "nbformat_minor": 4
}
