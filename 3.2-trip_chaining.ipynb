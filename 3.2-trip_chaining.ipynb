{
 "cells": [
  {
   "cell_type": "code",
   "execution_count": 1,
   "metadata": {},
   "outputs": [],
   "source": [
    "import transit_model as tm\n",
    "import numpy as np\n",
    "import matplotlib.pyplot as plt\n",
    "import random\n",
    "import pandas as pd\n",
    "import seaborn as sns"
   ]
  },
  {
   "cell_type": "code",
   "execution_count": null,
   "metadata": {},
   "outputs": [
    {
     "name": "stdout",
     "output_type": "stream",
     "text": [
      "running simulations for n_stops = 1\n",
      "running simulations for n_stops = 2\n",
      "running simulations for n_stops = 3\n",
      "running simulations for n_stops = 4\n"
     ]
    }
   ],
   "source": [
    "n_passengers = 10000\n",
    "\n",
    "n_stops_range = [1, 2, 3, 4, 5]\n",
    "replicates = 3\n",
    "max_steps = 1e3\n",
    "\n",
    "n_stops = []\n",
    "transit_times = []\n",
    "\n",
    "for n in n_stops_range:\n",
    "    print(f'running simulations for n_stops = {n}')\n",
    "    for r in range(replicates):\n",
    "        g, passengers = tm.initialize(n_passengers=n_passengers,\n",
    "                                      node_capacity=20,\n",
    "                                      intermediate_stops=n)\n",
    "        temp_transit_times = tm.update(g=g,\n",
    "                                       passengers=passengers,\n",
    "                                       max_run_steps=max_steps)\n",
    "        if len(temp_transit_times) == n_passengers:\n",
    "            transit_times.extend(temp_transit_times)\n",
    "            n_stops.extend([n]*len(temp_transit_times))\n",
    "        else:\n",
    "            print(f'simulation with capacity of {n} is has only {len(temp_transit_times)}/{n_passengers} completed')\n",
    "            \n",
    "trip_chain_dict = {'n_stops':n_stops, 'transit_times':transit_times}\n",
    "data_base_grid = pd.DataFrame.from_dict(trip_chain_dict)\n",
    "\n",
    "\n",
    "\n",
    "sns.set(style=\"whitegrid\")\n",
    "plt.figure(dpi=120)\n",
    "sns.violinplot(x='n_stops', y='transit_times', data=data, alpha=0.5, saturation=0.8)\n",
    "plt.show()"
   ]
  },
  {
   "cell_type": "code",
   "execution_count": null,
   "metadata": {},
   "outputs": [],
   "source": [
    "n_passengers = 10000\n",
    "\n",
    "n_stops_range = [1, 2, 3, 4, 5]\n",
    "replicates = 3\n",
    "max_steps = 1e3\n",
    "\n",
    "n_stops = []\n",
    "transit_times = []\n",
    "\n",
    "for n in n_stops_range:\n",
    "    print(f'running simulations for n_stops = {n}')\n",
    "    for r in range(replicates):\n",
    "        g, passengers = tm.initialize(n_passengers=n_passengers,\n",
    "                                      node_capacity=20,\n",
    "                                      intermediate_stops=n)\n",
    "        g = tm.add_line('CTA_data/new_line_1.txt', g, 'lightblue')\n",
    "        temp_transit_times = tm.update(g=g,\n",
    "                                       passengers=passengers,\n",
    "                                       max_run_steps=max_steps)\n",
    "        if len(temp_transit_times) == n_passengers:\n",
    "            transit_times.extend(temp_transit_times)\n",
    "            n_stops.extend([n]*len(temp_transit_times))\n",
    "        else:\n",
    "            print(f'simulation with capacity of {n} is has only {len(temp_transit_times)}/{n_passengers} completed')\n",
    "            \n",
    "trip_chain_dict = {'n_stops':n_stops, 'transit_times':transit_times}\n",
    "data_extra_line = pd.DataFrame.from_dict(trip_chain_dict)\n",
    "\n",
    "\n",
    "\n",
    "sns.set(style=\"whitegrid\")\n",
    "plt.figure(dpi=120)\n",
    "sns.violinplot(x='n_stops', y='transit_times', data=data, alpha=0.5, saturation=0.8)\n",
    "plt.show()"
   ]
  },
  {
   "cell_type": "code",
   "execution_count": null,
   "metadata": {},
   "outputs": [],
   "source": []
  }
 ],
 "metadata": {
  "kernelspec": {
   "display_name": "Python [conda env:alyssa] *",
   "language": "python",
   "name": "conda-env-alyssa-py"
  },
  "language_info": {
   "codemirror_mode": {
    "name": "ipython",
    "version": 3
   },
   "file_extension": ".py",
   "mimetype": "text/x-python",
   "name": "python",
   "nbconvert_exporter": "python",
   "pygments_lexer": "ipython3",
   "version": "3.8.1"
  }
 },
 "nbformat": 4,
 "nbformat_minor": 4
}
